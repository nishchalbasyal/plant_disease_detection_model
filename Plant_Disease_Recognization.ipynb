{
 "cells": [
  {
   "cell_type": "code",
   "execution_count": 1,
   "metadata": {
    "executionInfo": {
     "elapsed": 952,
     "status": "ok",
     "timestamp": 1702309903204,
     "user": {
      "displayName": "Nishchal Basyal",
      "userId": "04481149690446581816"
     },
     "user_tz": -330
    },
    "id": "UCDQTpGYZ-Xr"
   },
   "outputs": [],
   "source": [
    "import numpy as np\n",
    "import pandas as pd"
   ]
  },
  {
   "cell_type": "code",
   "execution_count": 2,
   "metadata": {
    "executionInfo": {
     "elapsed": 5,
     "status": "ok",
     "timestamp": 1702309903205,
     "user": {
      "displayName": "Nishchal Basyal",
      "userId": "04481149690446581816"
     },
     "user_tz": -330
    },
    "id": "ZYP3rryRaHf4"
   },
   "outputs": [],
   "source": [
    "import tensorflow as tf\n",
    "from tensorflow.keras import Sequential\n",
    "from tensorflow.keras.layers import Dense, MaxPooling2D, BatchNormalization, Conv2D,Dropout,Flatten,BatchNormalization\n",
    "from tensorflow.keras.preprocessing import  image_dataset_from_directory\n",
    "from tensorflow.keras.preprocessing.image import ImageDataGenerator\n",
    "from tensorflow.keras.applications import VGG16"
   ]
  },
  {
   "cell_type": "code",
   "execution_count": 3,
   "metadata": {
    "executionInfo": {
     "elapsed": 5,
     "status": "ok",
     "timestamp": 1702309903205,
     "user": {
      "displayName": "Nishchal Basyal",
      "userId": "04481149690446581816"
     },
     "user_tz": -330
    },
    "id": "DHGyu24gbutX"
   },
   "outputs": [],
   "source": [
    "import seaborn as sns\n",
    "# import cv2\n",
    "import matplotlib.image as png\n",
    "import matplotlib.pyplot as plt\n",
    "from PIL import Image\n",
    "from sklearn.model_selection import train_test_split"
   ]
  },
  {
   "cell_type": "code",
   "execution_count": null,
   "metadata": {},
   "outputs": [],
   "source": []
  },
  {
   "cell_type": "code",
   "execution_count": 4,
   "metadata": {
    "executionInfo": {
     "elapsed": 4,
     "status": "ok",
     "timestamp": 1702309903205,
     "user": {
      "displayName": "Nishchal Basyal",
      "userId": "04481149690446581816"
     },
     "user_tz": -330
    },
    "id": "dINC9kLPIbK1"
   },
   "outputs": [],
   "source": [
    "data_directory = './PlantVillage'\n",
    "# test_directory = '/content/drive/MyDrive/AI/Deep Learning/Datasets/Plant Datasets/Test/Test'\n",
    "# valid_directory =  '/content/drive/MyDrive/AI/Deep Learning/Datasets/Plant Datasets/Validation/Validation'"
   ]
  },
  {
   "cell_type": "code",
   "execution_count": 5,
   "metadata": {
    "colab": {
     "base_uri": "https://localhost:8080/"
    },
    "executionInfo": {
     "elapsed": 6283,
     "status": "ok",
     "timestamp": 1702309909484,
     "user": {
      "displayName": "Nishchal Basyal",
      "userId": "04481149690446581816"
     },
     "user_tz": -330
    },
    "id": "knHnrVAPI8bV",
    "outputId": "f5f8bf24-cb85-4e51-bdd5-ded3233913d4"
   },
   "outputs": [
    {
     "name": "stdout",
     "output_type": "stream",
     "text": [
      "Found 20638 files belonging to 15 classes.\n"
     ]
    }
   ],
   "source": [
    "train = image_dataset_from_directory(data_directory,batch_size=40,image_size=(256,256),shuffle=True)\n",
    "# test =  image_dataset_from_directory(test_directory,batch_size=40,image_size=(256,256),shuffle=True)\n",
    "# valid = image_dataset_from_directory(valid_directory,batch_size=40,image_size=(256,256),shuffle=True)"
   ]
  },
  {
   "cell_type": "code",
   "execution_count": 6,
   "metadata": {
    "colab": {
     "base_uri": "https://localhost:8080/"
    },
    "executionInfo": {
     "elapsed": 6,
     "status": "ok",
     "timestamp": 1702309909484,
     "user": {
      "displayName": "Nishchal Basyal",
      "userId": "04481149690446581816"
     },
     "user_tz": -330
    },
    "id": "K5cng1lBJvfc",
    "outputId": "c7257f15-aa35-4a7f-845b-99e7f709f734"
   },
   "outputs": [
    {
     "data": {
      "text/plain": [
       "['Pepper__bell___Bacterial_spot',\n",
       " 'Pepper__bell___healthy',\n",
       " 'Potato___Early_blight',\n",
       " 'Potato___Late_blight',\n",
       " 'Potato___healthy',\n",
       " 'Tomato_Bacterial_spot',\n",
       " 'Tomato_Early_blight',\n",
       " 'Tomato_Late_blight',\n",
       " 'Tomato_Leaf_Mold',\n",
       " 'Tomato_Septoria_leaf_spot',\n",
       " 'Tomato_Spider_mites_Two_spotted_spider_mite',\n",
       " 'Tomato__Target_Spot',\n",
       " 'Tomato__Tomato_YellowLeaf__Curl_Virus',\n",
       " 'Tomato__Tomato_mosaic_virus',\n",
       " 'Tomato_healthy']"
      ]
     },
     "execution_count": 6,
     "metadata": {},
     "output_type": "execute_result"
    }
   ],
   "source": [
    "class_labels = train.class_names\n",
    "class_labels"
   ]
  },
  {
   "cell_type": "code",
   "execution_count": null,
   "metadata": {
    "executionInfo": {
     "elapsed": 3,
     "status": "ok",
     "timestamp": 1702309909484,
     "user": {
      "displayName": "Nishchal Basyal",
      "userId": "04481149690446581816"
     },
     "user_tz": -330
    },
    "id": "yhxh4lbh9QOU"
   },
   "outputs": [],
   "source": []
  },
  {
   "cell_type": "code",
   "execution_count": 7,
   "metadata": {
    "executionInfo": {
     "elapsed": 722,
     "status": "ok",
     "timestamp": 1702309910203,
     "user": {
      "displayName": "Nishchal Basyal",
      "userId": "04481149690446581816"
     },
     "user_tz": -330
    },
    "id": "x85DpnK4Mhum"
   },
   "outputs": [],
   "source": [
    "# for image_batch, image_label in train.take(1):\n",
    "#   first_image = image_batch[0].numpy()\n",
    "#   print()\n",
    "#   total_pixel_value = tf.reduce_sum(first_image).numpy()\n",
    "#   print(\"Total pixel value of the first image:\", total_pixel_value)"
   ]
  },
  {
   "cell_type": "code",
   "execution_count": 8,
   "metadata": {
    "executionInfo": {
     "elapsed": 4,
     "status": "ok",
     "timestamp": 1702309910203,
     "user": {
      "displayName": "Nishchal Basyal",
      "userId": "04481149690446581816"
     },
     "user_tz": -330
    },
    "id": "6Xse7hXZKH8e"
   },
   "outputs": [],
   "source": [
    "# plt.figure(figsize=(20,20))\n",
    "# for image_batch,image_label in train.take(1):\n",
    "#   for i in range(20):\n",
    "#     plt.subplot(5,4,i+1)\n",
    "#     plt.imshow(image_batch[i].numpy().astype(\"uint8\"))\n",
    "#     plt.title(class_labels[image_label[i].numpy()])\n",
    "#     plt.axis(\"off\")\n"
   ]
  },
  {
   "cell_type": "code",
   "execution_count": 9,
   "metadata": {
    "executionInfo": {
     "elapsed": 4,
     "status": "ok",
     "timestamp": 1702309910203,
     "user": {
      "displayName": "Nishchal Basyal",
      "userId": "04481149690446581816"
     },
     "user_tz": -330
    },
    "id": "ks-zKnQhKiWu"
   },
   "outputs": [],
   "source": [
    "# data Augumentation and Normalization\n",
    "train_datagen = ImageDataGenerator(\n",
    "    rotation_range=40,\n",
    "    width_shift_range=0.2,\n",
    "    height_shift_range=0.2,\n",
    "    shear_range=0.2,\n",
    "    zoom_range=0.2,\n",
    "    horizontal_flip=True,\n",
    "    fill_mode='nearest',\n",
    "    rescale=1./255,  # Normalize pixel values\n",
    "    validation_split=0.6\n",
    ")\n",
    "\n",
    "val_datagen = ImageDataGenerator(\n",
    "    rescale = 1./255,\n",
    "    validation_split = 0.12\n",
    ")\n",
    "\n"
   ]
  },
  {
   "cell_type": "code",
   "execution_count": 10,
   "metadata": {
    "colab": {
     "base_uri": "https://localhost:8080/"
    },
    "executionInfo": {
     "elapsed": 1150,
     "status": "ok",
     "timestamp": 1702309911350,
     "user": {
      "displayName": "Nishchal Basyal",
      "userId": "04481149690446581816"
     },
     "user_tz": -330
    },
    "id": "L3H6Dd8bp7zs",
    "outputId": "ec450980-27ab-4e73-c837-69da105ab404"
   },
   "outputs": [
    {
     "name": "stdout",
     "output_type": "stream",
     "text": [
      "Found 8261 images belonging to 15 classes.\n",
      "Found 2471 images belonging to 15 classes.\n"
     ]
    }
   ],
   "source": [
    "train_generator = train_datagen.flow_from_directory(\n",
    "    directory=data_directory,\n",
    "    target_size=(256, 256),\n",
    "    batch_size=100,\n",
    "    class_mode='categorical',\n",
    "    shuffle=True,\n",
    "    subset='training'\n",
    ")\n",
    "\n",
    "\n",
    "val_generator = val_datagen.flow_from_directory(\n",
    "       directory=data_directory,\n",
    "        batch_size=50,\n",
    "        shuffle=False,\n",
    "        class_mode='categorical',\n",
    "        subset='validation'\n",
    "  )\n",
    "\n"
   ]
  },
  {
   "cell_type": "code",
   "execution_count": 11,
   "metadata": {},
   "outputs": [],
   "source": [
    "# def data_generator_worker(data_gen,subset,shuffle):\n",
    "#         generator = data_gen.flow_from_directory(data_directory, target_size=(256, 256), batch_size=200, class_mode='categorical', subset=subset,shuffle=shuffle)\n",
    "#         while True:        \n",
    "#             yield next(generator)"
   ]
  },
  {
   "cell_type": "code",
   "execution_count": 12,
   "metadata": {},
   "outputs": [],
   "source": [
    "# train_generator = data_generator_worker(train_datagen,'training',True)\n",
    "# val_generator = data_generator_worker(val_datagen,'validation',False)"
   ]
  },
  {
   "cell_type": "code",
   "execution_count": 13,
   "metadata": {},
   "outputs": [],
   "source": [
    "training_samples = 8261 \n",
    "val_samples = 2471 \n",
    "batch_size = 100\n",
    "steps_per_epoch = training_samples // batch_size\n",
    "validation_steps = val_samples // batch_size\n"
   ]
  },
  {
   "cell_type": "code",
   "execution_count": 14,
   "metadata": {
    "executionInfo": {
     "elapsed": 13,
     "status": "ok",
     "timestamp": 1702309911350,
     "user": {
      "displayName": "Nishchal Basyal",
      "userId": "04481149690446581816"
     },
     "user_tz": -330
    },
    "id": "iDdJhzxJul6L"
   },
   "outputs": [],
   "source": [
    "base_model = VGG16(include_top=False,weights='imagenet',input_shape=(256,256,3))"
   ]
  },
  {
   "cell_type": "code",
   "execution_count": 15,
   "metadata": {
    "colab": {
     "base_uri": "https://localhost:8080/"
    },
    "executionInfo": {
     "elapsed": 983,
     "status": "ok",
     "timestamp": 1702309912321,
     "user": {
      "displayName": "Nishchal Basyal",
      "userId": "04481149690446581816"
     },
     "user_tz": -330
    },
    "id": "V61-HD-Vuqux",
    "outputId": "a4fb9b05-8d80-4405-b931-da82aa422d42"
   },
   "outputs": [
    {
     "name": "stdout",
     "output_type": "stream",
     "text": [
      "Model: \"vgg16\"\n",
      "_________________________________________________________________\n",
      " Layer (type)                Output Shape              Param #   \n",
      "=================================================================\n",
      " input_1 (InputLayer)        [(None, 256, 256, 3)]     0         \n",
      "                                                                 \n",
      " block1_conv1 (Conv2D)       (None, 256, 256, 64)      1792      \n",
      "                                                                 \n",
      " block1_conv2 (Conv2D)       (None, 256, 256, 64)      36928     \n",
      "                                                                 \n",
      " block1_pool (MaxPooling2D)  (None, 128, 128, 64)      0         \n",
      "                                                                 \n",
      " block2_conv1 (Conv2D)       (None, 128, 128, 128)     73856     \n",
      "                                                                 \n",
      " block2_conv2 (Conv2D)       (None, 128, 128, 128)     147584    \n",
      "                                                                 \n",
      " block2_pool (MaxPooling2D)  (None, 64, 64, 128)       0         \n",
      "                                                                 \n",
      " block3_conv1 (Conv2D)       (None, 64, 64, 256)       295168    \n",
      "                                                                 \n",
      " block3_conv2 (Conv2D)       (None, 64, 64, 256)       590080    \n",
      "                                                                 \n",
      " block3_conv3 (Conv2D)       (None, 64, 64, 256)       590080    \n",
      "                                                                 \n",
      " block3_pool (MaxPooling2D)  (None, 32, 32, 256)       0         \n",
      "                                                                 \n",
      " block4_conv1 (Conv2D)       (None, 32, 32, 512)       1180160   \n",
      "                                                                 \n",
      " block4_conv2 (Conv2D)       (None, 32, 32, 512)       2359808   \n",
      "                                                                 \n",
      " block4_conv3 (Conv2D)       (None, 32, 32, 512)       2359808   \n",
      "                                                                 \n",
      " block4_pool (MaxPooling2D)  (None, 16, 16, 512)       0         \n",
      "                                                                 \n",
      " block5_conv1 (Conv2D)       (None, 16, 16, 512)       2359808   \n",
      "                                                                 \n",
      " block5_conv2 (Conv2D)       (None, 16, 16, 512)       2359808   \n",
      "                                                                 \n",
      " block5_conv3 (Conv2D)       (None, 16, 16, 512)       2359808   \n",
      "                                                                 \n",
      " block5_pool (MaxPooling2D)  (None, 8, 8, 512)         0         \n",
      "                                                                 \n",
      "=================================================================\n",
      "Total params: 14,714,688\n",
      "Trainable params: 14,714,688\n",
      "Non-trainable params: 0\n",
      "_________________________________________________________________\n"
     ]
    }
   ],
   "source": [
    "base_model.summary()"
   ]
  },
  {
   "cell_type": "code",
   "execution_count": 16,
   "metadata": {
    "executionInfo": {
     "elapsed": 16,
     "status": "ok",
     "timestamp": 1702309912322,
     "user": {
      "displayName": "Nishchal Basyal",
      "userId": "04481149690446581816"
     },
     "user_tz": -330
    },
    "id": "oNMNMTg2us5Q"
   },
   "outputs": [],
   "source": [
    "base_model.trainable = False"
   ]
  },
  {
   "cell_type": "code",
   "execution_count": 17,
   "metadata": {
    "executionInfo": {
     "elapsed": 15,
     "status": "ok",
     "timestamp": 1702309912322,
     "user": {
      "displayName": "Nishchal Basyal",
      "userId": "04481149690446581816"
     },
     "user_tz": -330
    },
    "id": "PvjcGnckuvCN"
   },
   "outputs": [],
   "source": [
    "# for layer in base_model.layers:\n",
    "#    print(f'{layer.name} ===> {layer.trainable}')"
   ]
  },
  {
   "cell_type": "code",
   "execution_count": 18,
   "metadata": {
    "colab": {
     "base_uri": "https://localhost:8080/"
    },
    "executionInfo": {
     "elapsed": 15,
     "status": "ok",
     "timestamp": 1702309912322,
     "user": {
      "displayName": "Nishchal Basyal",
      "userId": "04481149690446581816"
     },
     "user_tz": -330
    },
    "id": "S5b3JviOuwut",
    "outputId": "1c4d5972-0d65-4e18-ffca-6deced9217ca"
   },
   "outputs": [
    {
     "name": "stdout",
     "output_type": "stream",
     "text": [
      "Model: \"sequential\"\n",
      "_________________________________________________________________\n",
      " Layer (type)                Output Shape              Param #   \n",
      "=================================================================\n",
      " vgg16 (Functional)          (None, 8, 8, 512)         14714688  \n",
      "                                                                 \n",
      " conv2d (Conv2D)             (None, 3, 3, 60)          276540    \n",
      "                                                                 \n",
      " max_pooling2d (MaxPooling2D  (None, 2, 2, 60)         0         \n",
      " )                                                               \n",
      "                                                                 \n",
      " conv2d_1 (Conv2D)           (None, 1, 1, 120)         64920     \n",
      "                                                                 \n",
      " conv2d_2 (Conv2D)           (None, 1, 1, 240)         259440    \n",
      "                                                                 \n",
      " flatten (Flatten)           (None, 240)               0         \n",
      "                                                                 \n",
      " dense (Dense)               (None, 128)               30848     \n",
      "                                                                 \n",
      " dropout (Dropout)           (None, 128)               0         \n",
      "                                                                 \n",
      " dense_1 (Dense)             (None, 236)               30444     \n",
      "                                                                 \n",
      " dropout_1 (Dropout)         (None, 236)               0         \n",
      "                                                                 \n",
      " dense_2 (Dense)             (None, 15)                3555      \n",
      "                                                                 \n",
      "=================================================================\n",
      "Total params: 15,380,435\n",
      "Trainable params: 665,747\n",
      "Non-trainable params: 14,714,688\n",
      "_________________________________________________________________\n"
     ]
    }
   ],
   "source": [
    "model = Sequential()\n",
    "\n",
    "\n",
    "\n",
    "model.add(base_model)\n",
    "model.add(Conv2D(60,kernel_size=(3,3),strides=(2,2)))\n",
    "model.add(MaxPooling2D((2,2),strides=(1,1)))\n",
    "model.add(Conv2D(120,kernel_size=(3,3),strides=(2,2),padding='same'))\n",
    "model.add(Conv2D(240,kernel_size=(3,3),strides=(2,2),padding='same'))\n",
    "model.add(Flatten())\n",
    "\n",
    "model.add(Dense(128,activation='relu'))\n",
    "model.add(Dropout(0.5))\n",
    "model.add(Dense(236,activation='relu'))\n",
    "model.add(Dropout(0.5))\n",
    "model.add(Dense(15,activation='softmax'))\n",
    "\n",
    "model.compile(optimizer='adam',loss='categorical_crossentropy',metrics=['accuracy'])\n",
    "\n",
    "model.summary()\n",
    "\n",
    "\n"
   ]
  },
  {
   "cell_type": "code",
   "execution_count": 19,
   "metadata": {
    "executionInfo": {
     "elapsed": 5,
     "status": "ok",
     "timestamp": 1702309912322,
     "user": {
      "displayName": "Nishchal Basyal",
      "userId": "04481149690446581816"
     },
     "user_tz": -330
    },
    "id": "sgWMQ-P2DdO9"
   },
   "outputs": [],
   "source": [
    "from keras.callbacks import EarlyStopping, ModelCheckpoint\n",
    "es = EarlyStopping(monitor='loss',patience=5)\n",
    "\n",
    "checkpoint = ModelCheckpoint(filepath='./Plant_Disease_Detection.h5',save_best_only=True,save_weights_only=False,monitor='loss')"
   ]
  },
  {
   "cell_type": "code",
   "execution_count": null,
   "metadata": {},
   "outputs": [],
   "source": []
  },
  {
   "cell_type": "code",
   "execution_count": null,
   "metadata": {
    "colab": {
     "background_save": true,
     "base_uri": "https://localhost:8080/"
    },
    "id": "xNkb7DnVh98_"
   },
   "outputs": [
    {
     "name": "stdout",
     "output_type": "stream",
     "text": [
      "Epoch 1/10\n",
      "83/83 [==============================] - 1310s 16s/step - loss: 2.1565 - accuracy: 0.2956 - val_loss: 1.3189 - val_accuracy: 0.5451\n",
      "Epoch 2/10\n",
      "83/83 [==============================] - 1410s 17s/step - loss: 1.4423 - accuracy: 0.5193 - val_loss: 0.9818 - val_accuracy: 0.6698\n",
      "Epoch 3/10\n",
      "83/83 [==============================] - 1424s 17s/step - loss: 1.1566 - accuracy: 0.6170 - val_loss: 0.7944 - val_accuracy: 0.7341\n",
      "Epoch 4/10\n",
      "83/83 [==============================] - 1432s 17s/step - loss: 1.0238 - accuracy: 0.6596 - val_loss: 0.6867 - val_accuracy: 0.7612\n",
      "Epoch 5/10\n",
      "12/83 [===>..........................] - ETA: 15:45 - loss: 0.9125 - accuracy: 0.7058"
     ]
    }
   ],
   "source": [
    "history = model.fit(train_generator,epochs=10,validation_data=val_generator,callbacks=[es,checkpoint,])"
   ]
  },
  {
   "cell_type": "code",
   "execution_count": null,
   "metadata": {},
   "outputs": [],
   "source": []
  },
  {
   "cell_type": "code",
   "execution_count": null,
   "metadata": {
    "id": "l4qCNQtAzD3J"
   },
   "outputs": [],
   "source": [
    "# plt.plot(history.history['loss'], label='training loss')\n",
    "# plt.plot(history.history['val_loss'], label='validation loss')\n",
    "# plt.legend()\n",
    "# plt.show()"
   ]
  },
  {
   "cell_type": "code",
   "execution_count": null,
   "metadata": {
    "id": "i98n5D4t1uFc"
   },
   "outputs": [],
   "source": [
    "train_new_model()"
   ]
  },
  {
   "cell_type": "code",
   "execution_count": null,
   "metadata": {
    "id": "OUaydPNd6vOU"
   },
   "outputs": [],
   "source": []
  }
 ],
 "metadata": {
  "accelerator": "GPU",
  "colab": {
   "authorship_tag": "ABX9TyM0gEBamLudRRBJnMx2R3oa",
   "mount_file_id": "1rdJOSX9Jiw7lg_oj9WRjK1b704g2upYc",
   "name": "",
   "version": ""
  },
  "kernelspec": {
   "display_name": "Python 3 (ipykernel)",
   "language": "python",
   "name": "python3"
  },
  "language_info": {
   "codemirror_mode": {
    "name": "ipython",
    "version": 3
   },
   "file_extension": ".py",
   "mimetype": "text/x-python",
   "name": "python",
   "nbconvert_exporter": "python",
   "pygments_lexer": "ipython3",
   "version": "3.10.7"
  }
 },
 "nbformat": 4,
 "nbformat_minor": 1
}

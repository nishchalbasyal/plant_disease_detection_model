{
 "cells": [
  {
   "cell_type": "code",
   "execution_count": 1,
   "metadata": {
    "id": "UCDQTpGYZ-Xr"
   },
   "outputs": [],
   "source": [
    "import numpy as np\n",
    "import pandas as pd"
   ]
  },
  {
   "cell_type": "code",
   "execution_count": 17,
   "metadata": {
    "id": "ZYP3rryRaHf4"
   },
   "outputs": [],
   "source": [
    "import tensorflow as tf\n",
    "from tensorflow.keras import Sequential\n",
    "from tensorflow.keras.layers import Dense, MaxPooling2D, BatchNormalization, Conv2D,Dropout,Flatten,BatchNormalization\n",
    "from tensorflow.keras.preprocessing import  image_dataset_from_directory\n",
    "from tensorflow.keras.preprocessing.image import ImageDataGenerator\n",
    "from tensorflow.keras.applications import VGG16"
   ]
  },
  {
   "cell_type": "code",
   "execution_count": 3,
   "metadata": {
    "id": "DHGyu24gbutX"
   },
   "outputs": [],
   "source": [
    "import seaborn as sns\n",
    "# import cv2\n",
    "import matplotlib.image as png\n",
    "import matplotlib.pyplot as plt\n",
    "from PIL import Image"
   ]
  },
  {
   "cell_type": "code",
   "execution_count": 4,
   "metadata": {
    "id": "dINC9kLPIbK1"
   },
   "outputs": [],
   "source": [
    "data_directory = './PlantVillage'\n",
    " "
   ]
  },
  {
   "cell_type": "code",
   "execution_count": 5,
   "metadata": {
    "colab": {
     "base_uri": "https://localhost:8080/"
    },
    "executionInfo": {
     "elapsed": 3029,
     "status": "ok",
     "timestamp": 1702177957094,
     "user": {
      "displayName": "Nishchal Basyal",
      "userId": "04481149690446581816"
     },
     "user_tz": -330
    },
    "id": "knHnrVAPI8bV",
    "outputId": "eca5473e-3be5-4cda-b5c8-4b76fac136f3"
   },
   "outputs": [],
   "source": [
    "# train = image_dataset_from_directory(train_directory,batch_size=40,image_size=(256,256),shuffle=True)"
   ]
  },
  {
   "cell_type": "code",
   "execution_count": 6,
   "metadata": {
    "colab": {
     "base_uri": "https://localhost:8080/"
    },
    "executionInfo": {
     "elapsed": 10,
     "status": "ok",
     "timestamp": 1702177957095,
     "user": {
      "displayName": "Nishchal Basyal",
      "userId": "04481149690446581816"
     },
     "user_tz": -330
    },
    "id": "K5cng1lBJvfc",
    "outputId": "26dc707e-b687-4ba5-c655-9291c373e3ed"
   },
   "outputs": [],
   "source": [
    "# class_labels = train.class_names\n",
    "# class_labels"
   ]
  },
  {
   "cell_type": "code",
   "execution_count": 7,
   "metadata": {
    "id": "x85DpnK4Mhum"
   },
   "outputs": [],
   "source": [
    "# for image_batch, image_label in train.take(1):\n",
    "#   print(image_batch[0].numpy())\n",
    "#   print()\n",
    "#   print(image_label[0].numpy())"
   ]
  },
  {
   "cell_type": "code",
   "execution_count": 8,
   "metadata": {
    "id": "6Xse7hXZKH8e"
   },
   "outputs": [],
   "source": [
    "# plt.figure(figsize=(20,20))\n",
    "# for image_batch,image_label in train.take(1):\n",
    "#   for i in range(20):\n",
    "#     plt.subplot(5,4,i+1)\n",
    "#     plt.imshow(image_batch[i].numpy().astype(\"uint8\"))\n",
    "#     plt.title(class_labels[image_label[i].numpy()])\n",
    "#     plt.axis(\"off\")\n"
   ]
  },
  {
   "cell_type": "code",
   "execution_count": 9,
   "metadata": {
    "id": "ks-zKnQhKiWu"
   },
   "outputs": [],
   "source": [
    "# data Augumentation and Normalization\n",
    "train_datagen = ImageDataGenerator(\n",
    "    rotation_range=40,\n",
    "    width_shift_range=0.2,\n",
    "    height_shift_range=0.2,\n",
    "    shear_range=0.2,\n",
    "    zoom_range=0.2,\n",
    "    horizontal_flip=True,\n",
    "    fill_mode='nearest',\n",
    "    rescale=1./255  # Normalize pixel values\n",
    ")\n",
    "\n",
    "  \n"
   ]
  },
  {
   "cell_type": "code",
   "execution_count": 10,
   "metadata": {
    "colab": {
     "base_uri": "https://localhost:8080/"
    },
    "executionInfo": {
     "elapsed": 8,
     "status": "ok",
     "timestamp": 1702177957095,
     "user": {
      "displayName": "Nishchal Basyal",
      "userId": "04481149690446581816"
     },
     "user_tz": -330
    },
    "id": "L3H6Dd8bp7zs",
    "outputId": "11fc9b54-6782-404d-974b-14774d0d307e"
   },
   "outputs": [
    {
     "name": "stdout",
     "output_type": "stream",
     "text": [
      "Found 20638 images belonging to 15 classes.\n"
     ]
    }
   ],
   "source": [
    "train_generator = train_datagen.flow_from_directory(\n",
    "    directory=data_directory,\n",
    "    target_size=(255, 255),\n",
    "    batch_size=32,\n",
    "    class_mode='categorical',\n",
    "    shuffle=True\n",
    ")\n",
    "\n",
    " \n"
   ]
  },
  {
   "cell_type": "code",
   "execution_count": 18,
   "metadata": {},
   "outputs": [
    {
     "name": "stdout",
     "output_type": "stream",
     "text": [
      "Downloading data from https://storage.googleapis.com/tensorflow/keras-applications/vgg16/vgg16_weights_tf_dim_ordering_tf_kernels_notop.h5\n",
      "58889256/58889256 [==============================] - 15s 0us/step\n"
     ]
    }
   ],
   "source": [
    "base_model = VGG16(include_top=False,weights='imagenet',input_shape=(255,255,3))"
   ]
  },
  {
   "cell_type": "code",
   "execution_count": 19,
   "metadata": {},
   "outputs": [
    {
     "name": "stdout",
     "output_type": "stream",
     "text": [
      "Model: \"vgg16\"\n",
      "_________________________________________________________________\n",
      " Layer (type)                Output Shape              Param #   \n",
      "=================================================================\n",
      " input_1 (InputLayer)        [(None, 255, 255, 3)]     0         \n",
      "                                                                 \n",
      " block1_conv1 (Conv2D)       (None, 255, 255, 64)      1792      \n",
      "                                                                 \n",
      " block1_conv2 (Conv2D)       (None, 255, 255, 64)      36928     \n",
      "                                                                 \n",
      " block1_pool (MaxPooling2D)  (None, 127, 127, 64)      0         \n",
      "                                                                 \n",
      " block2_conv1 (Conv2D)       (None, 127, 127, 128)     73856     \n",
      "                                                                 \n",
      " block2_conv2 (Conv2D)       (None, 127, 127, 128)     147584    \n",
      "                                                                 \n",
      " block2_pool (MaxPooling2D)  (None, 63, 63, 128)       0         \n",
      "                                                                 \n",
      " block3_conv1 (Conv2D)       (None, 63, 63, 256)       295168    \n",
      "                                                                 \n",
      " block3_conv2 (Conv2D)       (None, 63, 63, 256)       590080    \n",
      "                                                                 \n",
      " block3_conv3 (Conv2D)       (None, 63, 63, 256)       590080    \n",
      "                                                                 \n",
      " block3_pool (MaxPooling2D)  (None, 31, 31, 256)       0         \n",
      "                                                                 \n",
      " block4_conv1 (Conv2D)       (None, 31, 31, 512)       1180160   \n",
      "                                                                 \n",
      " block4_conv2 (Conv2D)       (None, 31, 31, 512)       2359808   \n",
      "                                                                 \n",
      " block4_conv3 (Conv2D)       (None, 31, 31, 512)       2359808   \n",
      "                                                                 \n",
      " block4_pool (MaxPooling2D)  (None, 15, 15, 512)       0         \n",
      "                                                                 \n",
      " block5_conv1 (Conv2D)       (None, 15, 15, 512)       2359808   \n",
      "                                                                 \n",
      " block5_conv2 (Conv2D)       (None, 15, 15, 512)       2359808   \n",
      "                                                                 \n",
      " block5_conv3 (Conv2D)       (None, 15, 15, 512)       2359808   \n",
      "                                                                 \n",
      " block5_pool (MaxPooling2D)  (None, 7, 7, 512)         0         \n",
      "                                                                 \n",
      "=================================================================\n",
      "Total params: 14,714,688\n",
      "Trainable params: 14,714,688\n",
      "Non-trainable params: 0\n",
      "_________________________________________________________________\n"
     ]
    }
   ],
   "source": [
    "base_model.summary()"
   ]
  },
  {
   "cell_type": "code",
   "execution_count": 20,
   "metadata": {},
   "outputs": [],
   "source": [
    "base_model.trainable = False\n",
    "for layer in base_model.layers:\n",
    "    if layer.name == 'block5_conv3':\n",
    "        layer.trainable = True\n",
    "    else:\n",
    "        layer.trainable = False\n"
   ]
  },
  {
   "cell_type": "code",
   "execution_count": 21,
   "metadata": {},
   "outputs": [
    {
     "name": "stdout",
     "output_type": "stream",
     "text": [
      "input_1 ===> False\n",
      "block1_conv1 ===> False\n",
      "block1_conv2 ===> False\n",
      "block1_pool ===> False\n",
      "block2_conv1 ===> False\n",
      "block2_conv2 ===> False\n",
      "block2_pool ===> False\n",
      "block3_conv1 ===> False\n",
      "block3_conv2 ===> False\n",
      "block3_conv3 ===> False\n",
      "block3_pool ===> False\n",
      "block4_conv1 ===> False\n",
      "block4_conv2 ===> False\n",
      "block4_conv3 ===> False\n",
      "block4_pool ===> False\n",
      "block5_conv1 ===> False\n",
      "block5_conv2 ===> False\n",
      "block5_conv3 ===> True\n",
      "block5_pool ===> False\n"
     ]
    }
   ],
   "source": [
    "for layer in base_model.layers:\n",
    "   print(f'{layer.name} ===> {layer.trainable}')"
   ]
  },
  {
   "cell_type": "code",
   "execution_count": 22,
   "metadata": {
    "colab": {
     "background_save": true,
     "base_uri": "https://localhost:8080/"
    },
    "executionInfo": {
     "elapsed": 10,
     "status": "ok",
     "timestamp": 1702180109952,
     "user": {
      "displayName": "Nishchal Basyal",
      "userId": "04481149690446581816"
     },
     "user_tz": -330
    },
    "id": "v6nVAk6_SGtA"
   },
   "outputs": [
    {
     "name": "stdout",
     "output_type": "stream",
     "text": [
      "Model: \"sequential_1\"\n",
      "_________________________________________________________________\n",
      " Layer (type)                Output Shape              Param #   \n",
      "=================================================================\n",
      " vgg16 (Functional)          (None, 7, 7, 512)         14714688  \n",
      "                                                                 \n",
      " flatten_1 (Flatten)         (None, 25088)             0         \n",
      "                                                                 \n",
      " dense_3 (Dense)             (None, 128)               3211392   \n",
      "                                                                 \n",
      " dropout_5 (Dropout)         (None, 128)               0         \n",
      "                                                                 \n",
      " dense_4 (Dense)             (None, 236)               30444     \n",
      "                                                                 \n",
      " dropout_6 (Dropout)         (None, 236)               0         \n",
      "                                                                 \n",
      " dense_5 (Dense)             (None, 472)               111864    \n",
      "                                                                 \n",
      "=================================================================\n",
      "Total params: 18,068,388\n",
      "Trainable params: 3,353,700\n",
      "Non-trainable params: 14,714,688\n",
      "_________________________________________________________________\n"
     ]
    }
   ],
   "source": [
    "model = Sequential()\n",
    "\n",
    " \n",
    "\n",
    "model.add(base_model)\n",
    " \n",
    "model.add(Flatten())\n",
    "\n",
    "model.add(Dense(128,activation='relu'))\n",
    "model.add(Dropout(0.5))\n",
    "model.add(Dense(236,activation='relu'))\n",
    "model.add(Dropout(0.5))\n",
    "model.add(Dense(472,activation='softmax'))\n",
    "\n",
    "model.compile(optimizer='adam',loss='categorical_crossentropy',metrics=['accuracy'])\n",
    "\n",
    "model.summary()\n",
    "\n",
    "\n"
   ]
  },
  {
   "cell_type": "code",
   "execution_count": null,
   "metadata": {
    "colab": {
     "base_uri": "https://localhost:8080/"
    },
    "executionInfo": {
     "elapsed": 1167100,
     "status": "ok",
     "timestamp": 1702181332567,
     "user": {
      "displayName": "Nishchal Basyal",
      "userId": "04481149690446581816"
     },
     "user_tz": -330
    },
    "id": "xNkb7DnVh98_",
    "outputId": "c44c2683-f564-4c28-d24c-e7bdb40eea6f"
   },
   "outputs": [],
   "source": [
    "history = model.fit(train_generator,epochs=10,batch_size=32)"
   ]
  },
  {
   "cell_type": "code",
   "execution_count": 13,
   "metadata": {
    "colab": {
     "background_save": true,
     "base_uri": "https://localhost:8080/",
     "height": 430
    },
    "executionInfo": {
     "elapsed": 532,
     "status": "ok",
     "timestamp": 1702180089095,
     "user": {
      "displayName": "Nishchal Basyal",
      "userId": "04481149690446581816"
     },
     "user_tz": -330
    },
    "id": "l4qCNQtAzD3J"
   },
   "outputs": [],
   "source": [
    "# plt.plot(history.history['loss'], label='training loss')\n",
    "# plt.plot(history.history['val_loss'], label='validation loss')\n",
    "# plt.legend()\n",
    "# plt.show()"
   ]
  },
  {
   "cell_type": "code",
   "execution_count": null,
   "metadata": {
    "colab": {
     "background_save": true,
     "base_uri": "https://localhost:8080/",
     "height": 433
    },
    "executionInfo": {
     "elapsed": 742,
     "status": "ok",
     "timestamp": 1702181550803,
     "user": {
      "displayName": "Nishchal Basyal",
      "userId": "04481149690446581816"
     },
     "user_tz": -330
    },
    "id": "i98n5D4t1uFc"
   },
   "outputs": [],
   "source": []
  },
  {
   "cell_type": "code",
   "execution_count": null,
   "metadata": {
    "colab": {
     "background_save": true
    },
    "id": "OUaydPNd6vOU"
   },
   "outputs": [],
   "source": []
  }
 ],
 "metadata": {
  "accelerator": "GPU",
  "colab": {
   "authorship_tag": "ABX9TyOUVBJ3/yQO0mhVA0b9ivZV",
   "mount_file_id": "1rdJOSX9Jiw7lg_oj9WRjK1b704g2upYc",
   "name": "",
   "version": ""
  },
  "kernelspec": {
   "display_name": "Python 3 (ipykernel)",
   "language": "python",
   "name": "python3"
  },
  "language_info": {
   "codemirror_mode": {
    "name": "ipython",
    "version": 3
   },
   "file_extension": ".py",
   "mimetype": "text/x-python",
   "name": "python",
   "nbconvert_exporter": "python",
   "pygments_lexer": "ipython3",
   "version": "3.10.7"
  }
 },
 "nbformat": 4,
 "nbformat_minor": 1
}
